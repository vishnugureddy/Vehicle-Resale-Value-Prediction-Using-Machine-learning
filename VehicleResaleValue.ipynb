{
 "cells": [
  {
   "cell_type": "code",
   "execution_count": 1,
   "metadata": {},
   "outputs": [],
   "source": [
    "import pandas as pd\n",
    "\n",
    "import matplotlib.pyplot as plt\n",
    "import numpy as np\n",
    "from sklearn import datasets, linear_model, preprocessing, svm\n",
    "from sklearn.preprocessing import StandardScaler, Normalizer\n",
    "import math\n",
    "import matplotlib\n",
    "import seaborn as sns\n",
    "\n",
    "%matplotlib inline\n",
    "\n",
    "from sklearn.compose import ColumnTransformer \n",
    "from sklearn.preprocessing import OneHotEncoder \n",
    "from sklearn.preprocessing import LabelEncoder "
   ]
  },
  {
   "cell_type": "code",
   "execution_count": 2,
   "metadata": {},
   "outputs": [
    {
     "data": {
      "text/html": [
       "<div>\n",
       "<style scoped>\n",
       "    .dataframe tbody tr th:only-of-type {\n",
       "        vertical-align: middle;\n",
       "    }\n",
       "\n",
       "    .dataframe tbody tr th {\n",
       "        vertical-align: top;\n",
       "    }\n",
       "\n",
       "    .dataframe thead th {\n",
       "        text-align: right;\n",
       "    }\n",
       "</style>\n",
       "<table border=\"1\" class=\"dataframe\">\n",
       "  <thead>\n",
       "    <tr style=\"text-align: right;\">\n",
       "      <th></th>\n",
       "      <th>dateCrawled</th>\n",
       "      <th>name</th>\n",
       "      <th>seller</th>\n",
       "      <th>offerType</th>\n",
       "      <th>price</th>\n",
       "      <th>abtest</th>\n",
       "      <th>vehicleType</th>\n",
       "      <th>yearOfRegistration</th>\n",
       "      <th>gearbox</th>\n",
       "      <th>powerPS</th>\n",
       "      <th>model</th>\n",
       "      <th>kilometer</th>\n",
       "      <th>monthOfRegistration</th>\n",
       "      <th>fuelType</th>\n",
       "      <th>brand</th>\n",
       "      <th>notRepairedDamage</th>\n",
       "      <th>dateCreated</th>\n",
       "      <th>nrOfPictures</th>\n",
       "      <th>postalCode</th>\n",
       "      <th>lastSeen</th>\n",
       "    </tr>\n",
       "  </thead>\n",
       "  <tbody>\n",
       "    <tr>\n",
       "      <th>0</th>\n",
       "      <td>24-03-2016 11:52</td>\n",
       "      <td>Golf_3_1.6</td>\n",
       "      <td>privat</td>\n",
       "      <td>Angebot</td>\n",
       "      <td>480.0</td>\n",
       "      <td>test</td>\n",
       "      <td>NaN</td>\n",
       "      <td>1993.0</td>\n",
       "      <td>manuell</td>\n",
       "      <td>0.0</td>\n",
       "      <td>golf</td>\n",
       "      <td>150000</td>\n",
       "      <td>0.0</td>\n",
       "      <td>benzin</td>\n",
       "      <td>volkswagen</td>\n",
       "      <td>NaN</td>\n",
       "      <td>24-03-2016 00:00</td>\n",
       "      <td>0.0</td>\n",
       "      <td>70435.0</td>\n",
       "      <td>07-04-2016 03:16</td>\n",
       "    </tr>\n",
       "    <tr>\n",
       "      <th>1</th>\n",
       "      <td>24-03-2016 10:58</td>\n",
       "      <td>A5_Sportback_2.7_Tdi</td>\n",
       "      <td>privat</td>\n",
       "      <td>Angebot</td>\n",
       "      <td>18300.0</td>\n",
       "      <td>test</td>\n",
       "      <td>coupe</td>\n",
       "      <td>2011.0</td>\n",
       "      <td>manuell</td>\n",
       "      <td>190.0</td>\n",
       "      <td>NaN</td>\n",
       "      <td>125000</td>\n",
       "      <td>5.0</td>\n",
       "      <td>diesel</td>\n",
       "      <td>audi</td>\n",
       "      <td>yes</td>\n",
       "      <td>24-03-2016 00:00</td>\n",
       "      <td>0.0</td>\n",
       "      <td>66954.0</td>\n",
       "      <td>07-04-2016 01:46</td>\n",
       "    </tr>\n",
       "    <tr>\n",
       "      <th>2</th>\n",
       "      <td>14-03-2016 12:52</td>\n",
       "      <td>Jeep_Grand_Cherokee_\"Overland\"</td>\n",
       "      <td>privat</td>\n",
       "      <td>Angebot</td>\n",
       "      <td>9800.0</td>\n",
       "      <td>test</td>\n",
       "      <td>suv</td>\n",
       "      <td>2004.0</td>\n",
       "      <td>automatic</td>\n",
       "      <td>163.0</td>\n",
       "      <td>grand</td>\n",
       "      <td>125000</td>\n",
       "      <td>8.0</td>\n",
       "      <td>diesel</td>\n",
       "      <td>jeep</td>\n",
       "      <td>NaN</td>\n",
       "      <td>14-03-2016 00:00</td>\n",
       "      <td>0.0</td>\n",
       "      <td>90480.0</td>\n",
       "      <td>05-04-2016 12:47</td>\n",
       "    </tr>\n",
       "    <tr>\n",
       "      <th>3</th>\n",
       "      <td>17-03-2016 16:54</td>\n",
       "      <td>GOLF_4_1_4__3TÜRER</td>\n",
       "      <td>privat</td>\n",
       "      <td>Angebot</td>\n",
       "      <td>1500.0</td>\n",
       "      <td>test</td>\n",
       "      <td>kleinwagen</td>\n",
       "      <td>2001.0</td>\n",
       "      <td>manuell</td>\n",
       "      <td>75.0</td>\n",
       "      <td>golf</td>\n",
       "      <td>150000</td>\n",
       "      <td>6.0</td>\n",
       "      <td>benzin</td>\n",
       "      <td>volkswagen</td>\n",
       "      <td>no</td>\n",
       "      <td>17-03-2016 00:00</td>\n",
       "      <td>0.0</td>\n",
       "      <td>91074.0</td>\n",
       "      <td>17-03-2016 17:40</td>\n",
       "    </tr>\n",
       "    <tr>\n",
       "      <th>4</th>\n",
       "      <td>31-03-2016 17:25</td>\n",
       "      <td>Skoda_Fabia_1.4_TDI_PD_Classic</td>\n",
       "      <td>privat</td>\n",
       "      <td>Angebot</td>\n",
       "      <td>3600.0</td>\n",
       "      <td>test</td>\n",
       "      <td>kleinwagen</td>\n",
       "      <td>2008.0</td>\n",
       "      <td>manuell</td>\n",
       "      <td>69.0</td>\n",
       "      <td>fabia</td>\n",
       "      <td>90000</td>\n",
       "      <td>7.0</td>\n",
       "      <td>diesel</td>\n",
       "      <td>skoda</td>\n",
       "      <td>no</td>\n",
       "      <td>31-03-2016 00:00</td>\n",
       "      <td>0.0</td>\n",
       "      <td>60437.0</td>\n",
       "      <td>06-04-2016 10:17</td>\n",
       "    </tr>\n",
       "    <tr>\n",
       "      <th>...</th>\n",
       "      <td>...</td>\n",
       "      <td>...</td>\n",
       "      <td>...</td>\n",
       "      <td>...</td>\n",
       "      <td>...</td>\n",
       "      <td>...</td>\n",
       "      <td>...</td>\n",
       "      <td>...</td>\n",
       "      <td>...</td>\n",
       "      <td>...</td>\n",
       "      <td>...</td>\n",
       "      <td>...</td>\n",
       "      <td>...</td>\n",
       "      <td>...</td>\n",
       "      <td>...</td>\n",
       "      <td>...</td>\n",
       "      <td>...</td>\n",
       "      <td>...</td>\n",
       "      <td>...</td>\n",
       "      <td>...</td>\n",
       "    </tr>\n",
       "    <tr>\n",
       "      <th>371534</th>\n",
       "      <td>14-03-2016 17:48</td>\n",
       "      <td>Suche_t4___vito_ab_6_sitze</td>\n",
       "      <td>privat</td>\n",
       "      <td>Angebot</td>\n",
       "      <td>2200.0</td>\n",
       "      <td>test</td>\n",
       "      <td>NaN</td>\n",
       "      <td>2005.0</td>\n",
       "      <td>NaN</td>\n",
       "      <td>0.0</td>\n",
       "      <td>NaN</td>\n",
       "      <td>20000</td>\n",
       "      <td>1.0</td>\n",
       "      <td>NaN</td>\n",
       "      <td>sonstige_autos</td>\n",
       "      <td>NaN</td>\n",
       "      <td>14-03-2016 00:00</td>\n",
       "      <td>0.0</td>\n",
       "      <td>39576.0</td>\n",
       "      <td>06-04-2016 00:46</td>\n",
       "    </tr>\n",
       "    <tr>\n",
       "      <th>371535</th>\n",
       "      <td>05-03-2016 19:56</td>\n",
       "      <td>Smart_smart_leistungssteigerung_100ps</td>\n",
       "      <td>privat</td>\n",
       "      <td>Angebot</td>\n",
       "      <td>1199.0</td>\n",
       "      <td>test</td>\n",
       "      <td>cabrio</td>\n",
       "      <td>2000.0</td>\n",
       "      <td>automatic</td>\n",
       "      <td>101.0</td>\n",
       "      <td>fortwo</td>\n",
       "      <td>125000</td>\n",
       "      <td>3.0</td>\n",
       "      <td>benzin</td>\n",
       "      <td>smart</td>\n",
       "      <td>no</td>\n",
       "      <td>05-03-2016 00:00</td>\n",
       "      <td>0.0</td>\n",
       "      <td>26135.0</td>\n",
       "      <td>11-03-2016 18:17</td>\n",
       "    </tr>\n",
       "    <tr>\n",
       "      <th>371536</th>\n",
       "      <td>19-03-2016 18:57</td>\n",
       "      <td>Volkswagen_Multivan_T4_TDI_7DC_UY2</td>\n",
       "      <td>privat</td>\n",
       "      <td>Angebot</td>\n",
       "      <td>9200.0</td>\n",
       "      <td>test</td>\n",
       "      <td>bus</td>\n",
       "      <td>1996.0</td>\n",
       "      <td>manuell</td>\n",
       "      <td>102.0</td>\n",
       "      <td>transporter</td>\n",
       "      <td>150000</td>\n",
       "      <td>3.0</td>\n",
       "      <td>diesel</td>\n",
       "      <td>volkswagen</td>\n",
       "      <td>no</td>\n",
       "      <td>19-03-2016 00:00</td>\n",
       "      <td>0.0</td>\n",
       "      <td>87439.0</td>\n",
       "      <td>07-04-2016 07:15</td>\n",
       "    </tr>\n",
       "    <tr>\n",
       "      <th>371537</th>\n",
       "      <td>20-03-2016 19:41</td>\n",
       "      <td>VW_Golf_Kombi_1_9l_TDI</td>\n",
       "      <td>privat</td>\n",
       "      <td>Angebot</td>\n",
       "      <td>3400.0</td>\n",
       "      <td>test</td>\n",
       "      <td>kombi</td>\n",
       "      <td>2002.0</td>\n",
       "      <td>manuell</td>\n",
       "      <td>100.0</td>\n",
       "      <td>golf</td>\n",
       "      <td>150000</td>\n",
       "      <td>6.0</td>\n",
       "      <td>diesel</td>\n",
       "      <td>volkswagen</td>\n",
       "      <td>NaN</td>\n",
       "      <td>20-03-2016 00:00</td>\n",
       "      <td>0.0</td>\n",
       "      <td>40764.0</td>\n",
       "      <td>24-03-2016 12:45</td>\n",
       "    </tr>\n",
       "    <tr>\n",
       "      <th>371538</th>\n",
       "      <td>07-03-2016 19:39</td>\n",
       "      <td>BMW_M135i_vollausgestattet_NP_52.720____Euro</td>\n",
       "      <td>privat</td>\n",
       "      <td>Angebot</td>\n",
       "      <td>28990.0</td>\n",
       "      <td>control</td>\n",
       "      <td>limousine</td>\n",
       "      <td>2013.0</td>\n",
       "      <td>manuell</td>\n",
       "      <td>320.0</td>\n",
       "      <td>m_reihe</td>\n",
       "      <td>50000</td>\n",
       "      <td>8.0</td>\n",
       "      <td>benzin</td>\n",
       "      <td>bmw</td>\n",
       "      <td>no</td>\n",
       "      <td>07-03-2016 00:00</td>\n",
       "      <td>0.0</td>\n",
       "      <td>73326.0</td>\n",
       "      <td>22-03-2016 03:17</td>\n",
       "    </tr>\n",
       "  </tbody>\n",
       "</table>\n",
       "<p>371539 rows × 20 columns</p>\n",
       "</div>"
      ],
      "text/plain": [
       "             dateCrawled                                          name  \\\n",
       "0       24-03-2016 11:52                                    Golf_3_1.6   \n",
       "1       24-03-2016 10:58                          A5_Sportback_2.7_Tdi   \n",
       "2       14-03-2016 12:52                Jeep_Grand_Cherokee_\"Overland\"   \n",
       "3       17-03-2016 16:54                            GOLF_4_1_4__3TÜRER   \n",
       "4       31-03-2016 17:25                Skoda_Fabia_1.4_TDI_PD_Classic   \n",
       "...                  ...                                           ...   \n",
       "371534  14-03-2016 17:48                    Suche_t4___vito_ab_6_sitze   \n",
       "371535  05-03-2016 19:56         Smart_smart_leistungssteigerung_100ps   \n",
       "371536  19-03-2016 18:57            Volkswagen_Multivan_T4_TDI_7DC_UY2   \n",
       "371537  20-03-2016 19:41                        VW_Golf_Kombi_1_9l_TDI   \n",
       "371538  07-03-2016 19:39  BMW_M135i_vollausgestattet_NP_52.720____Euro   \n",
       "\n",
       "        seller offerType    price   abtest vehicleType  yearOfRegistration  \\\n",
       "0       privat   Angebot    480.0     test         NaN              1993.0   \n",
       "1       privat   Angebot  18300.0     test       coupe              2011.0   \n",
       "2       privat   Angebot   9800.0     test         suv              2004.0   \n",
       "3       privat   Angebot   1500.0     test  kleinwagen              2001.0   \n",
       "4       privat   Angebot   3600.0     test  kleinwagen              2008.0   \n",
       "...        ...       ...      ...      ...         ...                 ...   \n",
       "371534  privat   Angebot   2200.0     test         NaN              2005.0   \n",
       "371535  privat   Angebot   1199.0     test      cabrio              2000.0   \n",
       "371536  privat   Angebot   9200.0     test         bus              1996.0   \n",
       "371537  privat   Angebot   3400.0     test       kombi              2002.0   \n",
       "371538  privat   Angebot  28990.0  control   limousine              2013.0   \n",
       "\n",
       "          gearbox  powerPS        model kilometer  monthOfRegistration  \\\n",
       "0         manuell      0.0         golf    150000                  0.0   \n",
       "1         manuell    190.0          NaN    125000                  5.0   \n",
       "2       automatic    163.0        grand    125000                  8.0   \n",
       "3         manuell     75.0         golf    150000                  6.0   \n",
       "4         manuell     69.0        fabia     90000                  7.0   \n",
       "...           ...      ...          ...       ...                  ...   \n",
       "371534        NaN      0.0          NaN     20000                  1.0   \n",
       "371535  automatic    101.0       fortwo    125000                  3.0   \n",
       "371536    manuell    102.0  transporter    150000                  3.0   \n",
       "371537    manuell    100.0         golf    150000                  6.0   \n",
       "371538    manuell    320.0      m_reihe     50000                  8.0   \n",
       "\n",
       "       fuelType           brand notRepairedDamage       dateCreated  \\\n",
       "0        benzin      volkswagen               NaN  24-03-2016 00:00   \n",
       "1        diesel            audi               yes  24-03-2016 00:00   \n",
       "2        diesel            jeep               NaN  14-03-2016 00:00   \n",
       "3        benzin      volkswagen                no  17-03-2016 00:00   \n",
       "4        diesel           skoda                no  31-03-2016 00:00   \n",
       "...         ...             ...               ...               ...   \n",
       "371534      NaN  sonstige_autos               NaN  14-03-2016 00:00   \n",
       "371535   benzin           smart                no  05-03-2016 00:00   \n",
       "371536   diesel      volkswagen                no  19-03-2016 00:00   \n",
       "371537   diesel      volkswagen               NaN  20-03-2016 00:00   \n",
       "371538   benzin             bmw                no  07-03-2016 00:00   \n",
       "\n",
       "        nrOfPictures  postalCode          lastSeen  \n",
       "0                0.0     70435.0  07-04-2016 03:16  \n",
       "1                0.0     66954.0  07-04-2016 01:46  \n",
       "2                0.0     90480.0  05-04-2016 12:47  \n",
       "3                0.0     91074.0  17-03-2016 17:40  \n",
       "4                0.0     60437.0  06-04-2016 10:17  \n",
       "...              ...         ...               ...  \n",
       "371534           0.0     39576.0  06-04-2016 00:46  \n",
       "371535           0.0     26135.0  11-03-2016 18:17  \n",
       "371536           0.0     87439.0  07-04-2016 07:15  \n",
       "371537           0.0     40764.0  24-03-2016 12:45  \n",
       "371538           0.0     73326.0  22-03-2016 03:17  \n",
       "\n",
       "[371539 rows x 20 columns]"
      ]
     },
     "execution_count": 2,
     "metadata": {},
     "output_type": "execute_result"
    }
   ],
   "source": [
    "dataset=pd.read_csv(r'data.csv',encoding='cp1252',low_memory=False)\n",
    "dataset"
   ]
  },
  {
   "cell_type": "code",
   "execution_count": 3,
   "metadata": {},
   "outputs": [
    {
     "data": {
      "text/plain": [
       "dateCrawled            False\n",
       "name                   False\n",
       "seller                  True\n",
       "offerType               True\n",
       "price                   True\n",
       "abtest                  True\n",
       "vehicleType             True\n",
       "yearOfRegistration      True\n",
       "gearbox                 True\n",
       "powerPS                 True\n",
       "model                   True\n",
       "kilometer               True\n",
       "monthOfRegistration     True\n",
       "fuelType                True\n",
       "brand                   True\n",
       "notRepairedDamage       True\n",
       "dateCreated             True\n",
       "nrOfPictures            True\n",
       "postalCode              True\n",
       "lastSeen                True\n",
       "dtype: bool"
      ]
     },
     "execution_count": 3,
     "metadata": {},
     "output_type": "execute_result"
    }
   ],
   "source": [
    "dataset.isnull().any()"
   ]
  },
  {
   "cell_type": "code",
   "execution_count": 4,
   "metadata": {},
   "outputs": [
    {
     "data": {
      "text/plain": [
       "dateCrawled                0\n",
       "name                       0\n",
       "seller                     1\n",
       "offerType                  1\n",
       "price                      1\n",
       "abtest                     1\n",
       "vehicleType            37870\n",
       "yearOfRegistration         2\n",
       "gearbox                20210\n",
       "powerPS                    1\n",
       "model                  20485\n",
       "kilometer                  1\n",
       "monthOfRegistration        2\n",
       "fuelType               33388\n",
       "brand                      2\n",
       "notRepairedDamage      72062\n",
       "dateCreated                2\n",
       "nrOfPictures               2\n",
       "postalCode                 2\n",
       "lastSeen                   2\n",
       "dtype: int64"
      ]
     },
     "execution_count": 4,
     "metadata": {},
     "output_type": "execute_result"
    }
   ],
   "source": [
    "dataset.isnull().sum()"
   ]
  },
  {
   "cell_type": "code",
   "execution_count": 5,
   "metadata": {},
   "outputs": [
    {
     "data": {
      "text/plain": [
       "<matplotlib.axes._subplots.AxesSubplot at 0x1d7c5cfec70>"
      ]
     },
     "execution_count": 5,
     "metadata": {},
     "output_type": "execute_result"
    },
    {
     "data": {
      "image/png": "[encoded data removed]",
      "text/plain": [
       "<Figure size 432x288 with 1 Axes>"
      ]
     },
     "metadata": {
      "needs_background": "light"
     },
     "output_type": "display_data"
    }
   ],
   "source": [
    "sns.countplot(dataset['seller']) "
   ]
  },
  {
   "cell_type": "code",
   "execution_count": 6,
   "metadata": {},
   "outputs": [
    {
     "data": {
      "text/plain": [
       "<matplotlib.axes._subplots.AxesSubplot at 0x1d7c808d4f0>"
      ]
     },
     "execution_count": 6,
     "metadata": {},
     "output_type": "execute_result"
    },
    {
     "data": {
      "image/png": "[encoded data removed]",
      "text/plain": [
       "<Figure size 432x288 with 1 Axes>"
      ]
     },
     "metadata": {
      "needs_background": "light"
     },
     "output_type": "display_data"
    }
   ],
   "source": [
    "sns.countplot(dataset['offerType']) "
   ]
  },
  {
   "cell_type": "code",
   "execution_count": 7,
   "metadata": {},
   "outputs": [
    {
     "data": {
      "text/plain": [
       "<matplotlib.axes._subplots.AxesSubplot at 0x1d7c83dc610>"
      ]
     },
     "execution_count": 7,
     "metadata": {},
     "output_type": "execute_result"
    },
    {
     "data": {
      "image/png": "[encoded data removed]",
      "text/plain": [
       "<Figure size 432x288 with 1 Axes>"
      ]
     },
     "metadata": {
      "needs_background": "light"
     },
     "output_type": "display_data"
    }
   ],
   "source": [
    "sns.countplot(dataset['abtest']) "
   ]
  },
  {
   "cell_type": "code",
   "execution_count": 8,
   "metadata": {},
   "outputs": [
    {
     "data": {
      "text/plain": [
       "<matplotlib.axes._subplots.AxesSubplot at 0x1d7c82a6ac0>"
      ]
     },
     "execution_count": 8,
     "metadata": {},
     "output_type": "execute_result"
    },
    {
     "data": {
      "image/png": "[encoded data removed]",
      "text/plain": [
       "<Figure size 432x288 with 1 Axes>"
      ]
     },
     "metadata": {
      "needs_background": "light"
     },
     "output_type": "display_data"
    }
   ],
   "source": [
    "sns.countplot(dataset['vehicleType']) "
   ]
  },
  {
   "cell_type": "code",
   "execution_count": 9,
   "metadata": {},
   "outputs": [
    {
     "data": {
      "text/plain": [
       "<matplotlib.axes._subplots.AxesSubplot at 0x1d7c8148c40>"
      ]
     },
     "execution_count": 9,
     "metadata": {},
     "output_type": "execute_result"
    },
    {
     "data": {
      "image/png": "[encoded data removed]",
      "text/plain": [
       "<Figure size 432x288 with 1 Axes>"
      ]
     },
     "metadata": {
      "needs_background": "light"
     },
     "output_type": "display_data"
    }
   ],
   "source": [
    "sns.countplot(dataset['gearbox']) "
   ]
  },
  {
   "cell_type": "code",
   "execution_count": 10,
   "metadata": {},
   "outputs": [
    {
     "data": {
      "text/plain": [
       "<matplotlib.axes._subplots.AxesSubplot at 0x1d7c8233af0>"
      ]
     },
     "execution_count": 10,
     "metadata": {},
     "output_type": "execute_result"
    },
    {
     "data": {
      "image/png": "[encoded data removed]",
      "text/plain": [
       "<Figure size 1440x576 with 1 Axes>"
      ]
     },
     "metadata": {
      "needs_background": "light"
     },
     "output_type": "display_data"
    }
   ],
   "source": [
    "plt.rcParams['figure.figsize']=(20,8) \n",
    "sns.countplot(dataset['model']) "
   ]
  },
  {
   "cell_type": "code",
   "execution_count": 11,
   "metadata": {},
   "outputs": [
    {
     "data": {
      "text/plain": [
       "<matplotlib.axes._subplots.AxesSubplot at 0x1d7c8233310>"
      ]
     },
     "execution_count": 11,
     "metadata": {},
     "output_type": "execute_result"
    },
    {
     "data": {
      "image/png": "[encoded data removed]",
      "text/plain": [
       "<Figure size 1440x576 with 1 Axes>"
      ]
     },
     "metadata": {
      "needs_background": "light"
     },
     "output_type": "display_data"
    }
   ],
   "source": [
    "sns.countplot(dataset['fuelType']) "
   ]
  },
  {
   "cell_type": "code",
   "execution_count": 12,
   "metadata": {},
   "outputs": [
    {
     "data": {
      "text/plain": [
       "<matplotlib.axes._subplots.AxesSubplot at 0x1d7ca0663d0>"
      ]
     },
     "execution_count": 12,
     "metadata": {},
     "output_type": "execute_result"
    },
    {
     "data": {
      "image/png": "[encoded data removed]",
      "text/plain": [
       "<Figure size 1440x576 with 1 Axes>"
      ]
     },
     "metadata": {
      "needs_background": "light"
     },
     "output_type": "display_data"
    }
   ],
   "source": [
    "sns.countplot(dataset['brand']) "
   ]
  },
  {
   "cell_type": "code",
   "execution_count": 13,
   "metadata": {},
   "outputs": [
    {
     "data": {
      "text/plain": [
       "<matplotlib.axes._subplots.AxesSubplot at 0x1d7c9da53d0>"
      ]
     },
     "execution_count": 13,
     "metadata": {},
     "output_type": "execute_result"
    },
    {
     "data": {
      "image/png": "[encoded data removed]",
      "text/plain": [
       "<Figure size 1440x576 with 1 Axes>"
      ]
     },
     "metadata": {
      "needs_background": "light"
     },
     "output_type": "display_data"
    }
   ],
   "source": [
    "sns.countplot(dataset['notRepairedDamage']) "
   ]
  },
  {
   "cell_type": "code",
   "execution_count": null,
   "metadata": {},
   "outputs": [],
   "source": []
  },
  {
   "cell_type": "code",
   "execution_count": null,
   "metadata": {},
   "outputs": [],
   "source": []
  },
  {
   "cell_type": "code",
   "execution_count": 17,
   "metadata": {},
   "outputs": [
    {
     "data": {
      "text/plain": [
       "Text(0.5, 1.0, 'monthOfRegistration')"
      ]
     },
     "execution_count": 17,
     "metadata": {},
     "output_type": "execute_result"
    },
    {
     "data": {
      "image/png": "[encoded data removed]",
      "text/plain": [
       "<Figure size 1440x576 with 1 Axes>"
      ]
     },
     "metadata": {
      "needs_background": "light"
     },
     "output_type": "display_data"
    }
   ],
   "source": [
    "fig, ax = plt.subplots() \n",
    "ax.hist(dataset['monthOfRegistration']) \n",
    "ax.set_title('monthOfRegistration') "
   ]
  },
  {
   "cell_type": "code",
   "execution_count": 18,
   "metadata": {},
   "outputs": [],
   "source": [
    "dataset.drop(['name','seller', 'offerType', 'abtest', 'dateCrawled', 'nrOfPictures', 'lastSeen', 'postalCode', 'dateCreated','model'], axis='columns', inplace=True)"
   ]
  },
  {
   "cell_type": "code",
   "execution_count": 19,
   "metadata": {},
   "outputs": [
    {
     "data": {
      "text/html": [
       "<div>\n",
       "<style scoped>\n",
       "    .dataframe tbody tr th:only-of-type {\n",
       "        vertical-align: middle;\n",
       "    }\n",
       "\n",
       "    .dataframe tbody tr th {\n",
       "        vertical-align: top;\n",
       "    }\n",
       "\n",
       "    .dataframe thead th {\n",
       "        text-align: right;\n",
       "    }\n",
       "</style>\n",
       "<table border=\"1\" class=\"dataframe\">\n",
       "  <thead>\n",
       "    <tr style=\"text-align: right;\">\n",
       "      <th></th>\n",
       "      <th>price</th>\n",
       "      <th>vehicleType</th>\n",
       "      <th>yearOfRegistration</th>\n",
       "      <th>gearbox</th>\n",
       "      <th>powerPS</th>\n",
       "      <th>kilometer</th>\n",
       "      <th>monthOfRegistration</th>\n",
       "      <th>fuelType</th>\n",
       "      <th>brand</th>\n",
       "      <th>notRepairedDamage</th>\n",
       "    </tr>\n",
       "  </thead>\n",
       "  <tbody>\n",
       "    <tr>\n",
       "      <th>0</th>\n",
       "      <td>480.0</td>\n",
       "      <td>NaN</td>\n",
       "      <td>1993.0</td>\n",
       "      <td>manuell</td>\n",
       "      <td>0.0</td>\n",
       "      <td>150000</td>\n",
       "      <td>0.0</td>\n",
       "      <td>benzin</td>\n",
       "      <td>volkswagen</td>\n",
       "      <td>NaN</td>\n",
       "    </tr>\n",
       "    <tr>\n",
       "      <th>1</th>\n",
       "      <td>18300.0</td>\n",
       "      <td>coupe</td>\n",
       "      <td>2011.0</td>\n",
       "      <td>manuell</td>\n",
       "      <td>190.0</td>\n",
       "      <td>125000</td>\n",
       "      <td>5.0</td>\n",
       "      <td>diesel</td>\n",
       "      <td>audi</td>\n",
       "      <td>yes</td>\n",
       "    </tr>\n",
       "    <tr>\n",
       "      <th>2</th>\n",
       "      <td>9800.0</td>\n",
       "      <td>suv</td>\n",
       "      <td>2004.0</td>\n",
       "      <td>automatic</td>\n",
       "      <td>163.0</td>\n",
       "      <td>125000</td>\n",
       "      <td>8.0</td>\n",
       "      <td>diesel</td>\n",
       "      <td>jeep</td>\n",
       "      <td>NaN</td>\n",
       "    </tr>\n",
       "    <tr>\n",
       "      <th>3</th>\n",
       "      <td>1500.0</td>\n",
       "      <td>kleinwagen</td>\n",
       "      <td>2001.0</td>\n",
       "      <td>manuell</td>\n",
       "      <td>75.0</td>\n",
       "      <td>150000</td>\n",
       "      <td>6.0</td>\n",
       "      <td>benzin</td>\n",
       "      <td>volkswagen</td>\n",
       "      <td>no</td>\n",
       "    </tr>\n",
       "    <tr>\n",
       "      <th>4</th>\n",
       "      <td>3600.0</td>\n",
       "      <td>kleinwagen</td>\n",
       "      <td>2008.0</td>\n",
       "      <td>manuell</td>\n",
       "      <td>69.0</td>\n",
       "      <td>90000</td>\n",
       "      <td>7.0</td>\n",
       "      <td>diesel</td>\n",
       "      <td>skoda</td>\n",
       "      <td>no</td>\n",
       "    </tr>\n",
       "    <tr>\n",
       "      <th>...</th>\n",
       "      <td>...</td>\n",
       "      <td>...</td>\n",
       "      <td>...</td>\n",
       "      <td>...</td>\n",
       "      <td>...</td>\n",
       "      <td>...</td>\n",
       "      <td>...</td>\n",
       "      <td>...</td>\n",
       "      <td>...</td>\n",
       "      <td>...</td>\n",
       "    </tr>\n",
       "    <tr>\n",
       "      <th>371534</th>\n",
       "      <td>2200.0</td>\n",
       "      <td>NaN</td>\n",
       "      <td>2005.0</td>\n",
       "      <td>NaN</td>\n",
       "      <td>0.0</td>\n",
       "      <td>20000</td>\n",
       "      <td>1.0</td>\n",
       "      <td>NaN</td>\n",
       "      <td>sonstige_autos</td>\n",
       "      <td>NaN</td>\n",
       "    </tr>\n",
       "    <tr>\n",
       "      <th>371535</th>\n",
       "      <td>1199.0</td>\n",
       "      <td>cabrio</td>\n",
       "      <td>2000.0</td>\n",
       "      <td>automatic</td>\n",
       "      <td>101.0</td>\n",
       "      <td>125000</td>\n",
       "      <td>3.0</td>\n",
       "      <td>benzin</td>\n",
       "      <td>smart</td>\n",
       "      <td>no</td>\n",
       "    </tr>\n",
       "    <tr>\n",
       "      <th>371536</th>\n",
       "      <td>9200.0</td>\n",
       "      <td>bus</td>\n",
       "      <td>1996.0</td>\n",
       "      <td>manuell</td>\n",
       "      <td>102.0</td>\n",
       "      <td>150000</td>\n",
       "      <td>3.0</td>\n",
       "      <td>diesel</td>\n",
       "      <td>volkswagen</td>\n",
       "      <td>no</td>\n",
       "    </tr>\n",
       "    <tr>\n",
       "      <th>371537</th>\n",
       "      <td>3400.0</td>\n",
       "      <td>kombi</td>\n",
       "      <td>2002.0</td>\n",
       "      <td>manuell</td>\n",
       "      <td>100.0</td>\n",
       "      <td>150000</td>\n",
       "      <td>6.0</td>\n",
       "      <td>diesel</td>\n",
       "      <td>volkswagen</td>\n",
       "      <td>NaN</td>\n",
       "    </tr>\n",
       "    <tr>\n",
       "      <th>371538</th>\n",
       "      <td>28990.0</td>\n",
       "      <td>limousine</td>\n",
       "      <td>2013.0</td>\n",
       "      <td>manuell</td>\n",
       "      <td>320.0</td>\n",
       "      <td>50000</td>\n",
       "      <td>8.0</td>\n",
       "      <td>benzin</td>\n",
       "      <td>bmw</td>\n",
       "      <td>no</td>\n",
       "    </tr>\n",
       "  </tbody>\n",
       "</table>\n",
       "<p>371539 rows × 10 columns</p>\n",
       "</div>"
      ],
      "text/plain": [
       "          price vehicleType  yearOfRegistration    gearbox  powerPS kilometer  \\\n",
       "0         480.0         NaN              1993.0    manuell      0.0    150000   \n",
       "1       18300.0       coupe              2011.0    manuell    190.0    125000   \n",
       "2        9800.0         suv              2004.0  automatic    163.0    125000   \n",
       "3        1500.0  kleinwagen              2001.0    manuell     75.0    150000   \n",
       "4        3600.0  kleinwagen              2008.0    manuell     69.0     90000   \n",
       "...         ...         ...                 ...        ...      ...       ...   \n",
       "371534   2200.0         NaN              2005.0        NaN      0.0     20000   \n",
       "371535   1199.0      cabrio              2000.0  automatic    101.0    125000   \n",
       "371536   9200.0         bus              1996.0    manuell    102.0    150000   \n",
       "371537   3400.0       kombi              2002.0    manuell    100.0    150000   \n",
       "371538  28990.0   limousine              2013.0    manuell    320.0     50000   \n",
       "\n",
       "        monthOfRegistration fuelType           brand notRepairedDamage  \n",
       "0                       0.0   benzin      volkswagen               NaN  \n",
       "1                       5.0   diesel            audi               yes  \n",
       "2                       8.0   diesel            jeep               NaN  \n",
       "3                       6.0   benzin      volkswagen                no  \n",
       "4                       7.0   diesel           skoda                no  \n",
       "...                     ...      ...             ...               ...  \n",
       "371534                  1.0      NaN  sonstige_autos               NaN  \n",
       "371535                  3.0   benzin           smart                no  \n",
       "371536                  3.0   diesel      volkswagen                no  \n",
       "371537                  6.0   diesel      volkswagen               NaN  \n",
       "371538                  8.0   benzin             bmw                no  \n",
       "\n",
       "[371539 rows x 10 columns]"
      ]
     },
     "execution_count": 19,
     "metadata": {},
     "output_type": "execute_result"
    }
   ],
   "source": [
    "dataset"
   ]
  },
  {
   "cell_type": "code",
   "execution_count": 20,
   "metadata": {},
   "outputs": [
    {
     "data": {
      "text/plain": [
       "price                      1\n",
       "vehicleType            37870\n",
       "yearOfRegistration         2\n",
       "gearbox                20210\n",
       "powerPS                    1\n",
       "kilometer                  1\n",
       "monthOfRegistration        2\n",
       "fuelType               33388\n",
       "brand                      2\n",
       "notRepairedDamage      72062\n",
       "dtype: int64"
      ]
     },
     "execution_count": 20,
     "metadata": {},
     "output_type": "execute_result"
    }
   ],
   "source": [
    "dataset.isnull().sum()"
   ]
  },
  {
   "cell_type": "code",
   "execution_count": 21,
   "metadata": {},
   "outputs": [],
   "source": [
    "dataset=dataset.dropna()"
   ]
  },
  {
   "cell_type": "code",
   "execution_count": 22,
   "metadata": {},
   "outputs": [
    {
     "data": {
      "text/html": [
       "<div>\n",
       "<style scoped>\n",
       "    .dataframe tbody tr th:only-of-type {\n",
       "        vertical-align: middle;\n",
       "    }\n",
       "\n",
       "    .dataframe tbody tr th {\n",
       "        vertical-align: top;\n",
       "    }\n",
       "\n",
       "    .dataframe thead th {\n",
       "        text-align: right;\n",
       "    }\n",
       "</style>\n",
       "<table border=\"1\" class=\"dataframe\">\n",
       "  <thead>\n",
       "    <tr style=\"text-align: right;\">\n",
       "      <th></th>\n",
       "      <th>price</th>\n",
       "      <th>vehicleType</th>\n",
       "      <th>yearOfRegistration</th>\n",
       "      <th>gearbox</th>\n",
       "      <th>powerPS</th>\n",
       "      <th>kilometer</th>\n",
       "      <th>monthOfRegistration</th>\n",
       "      <th>fuelType</th>\n",
       "      <th>brand</th>\n",
       "      <th>notRepairedDamage</th>\n",
       "    </tr>\n",
       "  </thead>\n",
       "  <tbody>\n",
       "    <tr>\n",
       "      <th>1</th>\n",
       "      <td>18300.0</td>\n",
       "      <td>coupe</td>\n",
       "      <td>2011.0</td>\n",
       "      <td>manuell</td>\n",
       "      <td>190.0</td>\n",
       "      <td>125000</td>\n",
       "      <td>5.0</td>\n",
       "      <td>diesel</td>\n",
       "      <td>audi</td>\n",
       "      <td>yes</td>\n",
       "    </tr>\n",
       "    <tr>\n",
       "      <th>3</th>\n",
       "      <td>1500.0</td>\n",
       "      <td>kleinwagen</td>\n",
       "      <td>2001.0</td>\n",
       "      <td>manuell</td>\n",
       "      <td>75.0</td>\n",
       "      <td>150000</td>\n",
       "      <td>6.0</td>\n",
       "      <td>benzin</td>\n",
       "      <td>volkswagen</td>\n",
       "      <td>no</td>\n",
       "    </tr>\n",
       "    <tr>\n",
       "      <th>4</th>\n",
       "      <td>3600.0</td>\n",
       "      <td>kleinwagen</td>\n",
       "      <td>2008.0</td>\n",
       "      <td>manuell</td>\n",
       "      <td>69.0</td>\n",
       "      <td>90000</td>\n",
       "      <td>7.0</td>\n",
       "      <td>diesel</td>\n",
       "      <td>skoda</td>\n",
       "      <td>no</td>\n",
       "    </tr>\n",
       "    <tr>\n",
       "      <th>5</th>\n",
       "      <td>650.0</td>\n",
       "      <td>limousine</td>\n",
       "      <td>1995.0</td>\n",
       "      <td>manuell</td>\n",
       "      <td>102.0</td>\n",
       "      <td>150000</td>\n",
       "      <td>10.0</td>\n",
       "      <td>benzin</td>\n",
       "      <td>bmw</td>\n",
       "      <td>yes</td>\n",
       "    </tr>\n",
       "    <tr>\n",
       "      <th>6</th>\n",
       "      <td>2200.0</td>\n",
       "      <td>cabrio</td>\n",
       "      <td>2004.0</td>\n",
       "      <td>manuell</td>\n",
       "      <td>109.0</td>\n",
       "      <td>150000</td>\n",
       "      <td>8.0</td>\n",
       "      <td>benzin</td>\n",
       "      <td>peugeot</td>\n",
       "      <td>no</td>\n",
       "    </tr>\n",
       "    <tr>\n",
       "      <th>...</th>\n",
       "      <td>...</td>\n",
       "      <td>...</td>\n",
       "      <td>...</td>\n",
       "      <td>...</td>\n",
       "      <td>...</td>\n",
       "      <td>...</td>\n",
       "      <td>...</td>\n",
       "      <td>...</td>\n",
       "      <td>...</td>\n",
       "      <td>...</td>\n",
       "    </tr>\n",
       "    <tr>\n",
       "      <th>371531</th>\n",
       "      <td>3200.0</td>\n",
       "      <td>limousine</td>\n",
       "      <td>2004.0</td>\n",
       "      <td>manuell</td>\n",
       "      <td>225.0</td>\n",
       "      <td>150000</td>\n",
       "      <td>5.0</td>\n",
       "      <td>benzin</td>\n",
       "      <td>seat</td>\n",
       "      <td>yes</td>\n",
       "    </tr>\n",
       "    <tr>\n",
       "      <th>371532</th>\n",
       "      <td>1150.0</td>\n",
       "      <td>bus</td>\n",
       "      <td>2000.0</td>\n",
       "      <td>manuell</td>\n",
       "      <td>0.0</td>\n",
       "      <td>150000</td>\n",
       "      <td>3.0</td>\n",
       "      <td>benzin</td>\n",
       "      <td>opel</td>\n",
       "      <td>no</td>\n",
       "    </tr>\n",
       "    <tr>\n",
       "      <th>371535</th>\n",
       "      <td>1199.0</td>\n",
       "      <td>cabrio</td>\n",
       "      <td>2000.0</td>\n",
       "      <td>automatic</td>\n",
       "      <td>101.0</td>\n",
       "      <td>125000</td>\n",
       "      <td>3.0</td>\n",
       "      <td>benzin</td>\n",
       "      <td>smart</td>\n",
       "      <td>no</td>\n",
       "    </tr>\n",
       "    <tr>\n",
       "      <th>371536</th>\n",
       "      <td>9200.0</td>\n",
       "      <td>bus</td>\n",
       "      <td>1996.0</td>\n",
       "      <td>manuell</td>\n",
       "      <td>102.0</td>\n",
       "      <td>150000</td>\n",
       "      <td>3.0</td>\n",
       "      <td>diesel</td>\n",
       "      <td>volkswagen</td>\n",
       "      <td>no</td>\n",
       "    </tr>\n",
       "    <tr>\n",
       "      <th>371538</th>\n",
       "      <td>28990.0</td>\n",
       "      <td>limousine</td>\n",
       "      <td>2013.0</td>\n",
       "      <td>manuell</td>\n",
       "      <td>320.0</td>\n",
       "      <td>50000</td>\n",
       "      <td>8.0</td>\n",
       "      <td>benzin</td>\n",
       "      <td>bmw</td>\n",
       "      <td>no</td>\n",
       "    </tr>\n",
       "  </tbody>\n",
       "</table>\n",
       "<p>268021 rows × 10 columns</p>\n",
       "</div>"
      ],
      "text/plain": [
       "          price vehicleType  yearOfRegistration    gearbox  powerPS kilometer  \\\n",
       "1       18300.0       coupe              2011.0    manuell    190.0    125000   \n",
       "3        1500.0  kleinwagen              2001.0    manuell     75.0    150000   \n",
       "4        3600.0  kleinwagen              2008.0    manuell     69.0     90000   \n",
       "5         650.0   limousine              1995.0    manuell    102.0    150000   \n",
       "6        2200.0      cabrio              2004.0    manuell    109.0    150000   \n",
       "...         ...         ...                 ...        ...      ...       ...   \n",
       "371531   3200.0   limousine              2004.0    manuell    225.0    150000   \n",
       "371532   1150.0         bus              2000.0    manuell      0.0    150000   \n",
       "371535   1199.0      cabrio              2000.0  automatic    101.0    125000   \n",
       "371536   9200.0         bus              1996.0    manuell    102.0    150000   \n",
       "371538  28990.0   limousine              2013.0    manuell    320.0     50000   \n",
       "\n",
       "        monthOfRegistration fuelType       brand notRepairedDamage  \n",
       "1                       5.0   diesel        audi               yes  \n",
       "3                       6.0   benzin  volkswagen                no  \n",
       "4                       7.0   diesel       skoda                no  \n",
       "5                      10.0   benzin         bmw               yes  \n",
       "6                       8.0   benzin     peugeot                no  \n",
       "...                     ...      ...         ...               ...  \n",
       "371531                  5.0   benzin        seat               yes  \n",
       "371532                  3.0   benzin        opel                no  \n",
       "371535                  3.0   benzin       smart                no  \n",
       "371536                  3.0   diesel  volkswagen                no  \n",
       "371538                  8.0   benzin         bmw                no  \n",
       "\n",
       "[268021 rows x 10 columns]"
      ]
     },
     "execution_count": 22,
     "metadata": {},
     "output_type": "execute_result"
    }
   ],
   "source": [
    "dataset"
   ]
  },
  {
   "cell_type": "code",
   "execution_count": 23,
   "metadata": {},
   "outputs": [
    {
     "data": {
      "text/plain": [
       "price                  0\n",
       "vehicleType            0\n",
       "yearOfRegistration     0\n",
       "gearbox                0\n",
       "powerPS                0\n",
       "kilometer              0\n",
       "monthOfRegistration    0\n",
       "fuelType               0\n",
       "brand                  0\n",
       "notRepairedDamage      0\n",
       "dtype: int64"
      ]
     },
     "execution_count": 23,
     "metadata": {},
     "output_type": "execute_result"
    }
   ],
   "source": [
    "dataset.isnull().sum()"
   ]
  },
  {
   "cell_type": "code",
   "execution_count": 24,
   "metadata": {},
   "outputs": [
    {
     "data": {
      "text/html": [
       "<div>\n",
       "<style scoped>\n",
       "    .dataframe tbody tr th:only-of-type {\n",
       "        vertical-align: middle;\n",
       "    }\n",
       "\n",
       "    .dataframe tbody tr th {\n",
       "        vertical-align: top;\n",
       "    }\n",
       "\n",
       "    .dataframe thead th {\n",
       "        text-align: right;\n",
       "    }\n",
       "</style>\n",
       "<table border=\"1\" class=\"dataframe\">\n",
       "  <thead>\n",
       "    <tr style=\"text-align: right;\">\n",
       "      <th></th>\n",
       "      <th>price</th>\n",
       "      <th>yearOfRegistration</th>\n",
       "      <th>powerPS</th>\n",
       "      <th>monthOfRegistration</th>\n",
       "    </tr>\n",
       "  </thead>\n",
       "  <tbody>\n",
       "    <tr>\n",
       "      <th>count</th>\n",
       "      <td>2.680210e+05</td>\n",
       "      <td>268021.000000</td>\n",
       "      <td>268021.000000</td>\n",
       "      <td>268021.000000</td>\n",
       "    </tr>\n",
       "    <tr>\n",
       "      <th>mean</th>\n",
       "      <td>1.670942e+04</td>\n",
       "      <td>2003.183273</td>\n",
       "      <td>126.633215</td>\n",
       "      <td>6.165916</td>\n",
       "    </tr>\n",
       "    <tr>\n",
       "      <th>std</th>\n",
       "      <td>4.166472e+06</td>\n",
       "      <td>6.710726</td>\n",
       "      <td>155.755707</td>\n",
       "      <td>3.478328</td>\n",
       "    </tr>\n",
       "    <tr>\n",
       "      <th>min</th>\n",
       "      <td>0.000000e+00</td>\n",
       "      <td>1910.000000</td>\n",
       "      <td>0.000000</td>\n",
       "      <td>0.000000</td>\n",
       "    </tr>\n",
       "    <tr>\n",
       "      <th>25%</th>\n",
       "      <td>1.500000e+03</td>\n",
       "      <td>1999.000000</td>\n",
       "      <td>77.000000</td>\n",
       "      <td>3.000000</td>\n",
       "    </tr>\n",
       "    <tr>\n",
       "      <th>50%</th>\n",
       "      <td>3.800000e+03</td>\n",
       "      <td>2004.000000</td>\n",
       "      <td>116.000000</td>\n",
       "      <td>6.000000</td>\n",
       "    </tr>\n",
       "    <tr>\n",
       "      <th>75%</th>\n",
       "      <td>8.600000e+03</td>\n",
       "      <td>2008.000000</td>\n",
       "      <td>150.000000</td>\n",
       "      <td>9.000000</td>\n",
       "    </tr>\n",
       "    <tr>\n",
       "      <th>max</th>\n",
       "      <td>2.147484e+09</td>\n",
       "      <td>2018.000000</td>\n",
       "      <td>20000.000000</td>\n",
       "      <td>12.000000</td>\n",
       "    </tr>\n",
       "  </tbody>\n",
       "</table>\n",
       "</div>"
      ],
      "text/plain": [
       "              price  yearOfRegistration        powerPS  monthOfRegistration\n",
       "count  2.680210e+05       268021.000000  268021.000000        268021.000000\n",
       "mean   1.670942e+04         2003.183273     126.633215             6.165916\n",
       "std    4.166472e+06            6.710726     155.755707             3.478328\n",
       "min    0.000000e+00         1910.000000       0.000000             0.000000\n",
       "25%    1.500000e+03         1999.000000      77.000000             3.000000\n",
       "50%    3.800000e+03         2004.000000     116.000000             6.000000\n",
       "75%    8.600000e+03         2008.000000     150.000000             9.000000\n",
       "max    2.147484e+09         2018.000000   20000.000000            12.000000"
      ]
     },
     "execution_count": 24,
     "metadata": {},
     "output_type": "execute_result"
    }
   ],
   "source": [
    "dataset.describe()"
   ]
  },
  {
   "cell_type": "code",
   "execution_count": 25,
   "metadata": {},
   "outputs": [
    {
     "data": {
      "text/plain": [
       "limousine     78162\n",
       "kleinwagen    60709\n",
       "kombi         54451\n",
       "bus           25502\n",
       "cabrio        19204\n",
       "coupe         15335\n",
       "suv           12676\n",
       "andere         1982\n",
       "Name: vehicleType, dtype: int64"
      ]
     },
     "execution_count": 25,
     "metadata": {},
     "output_type": "execute_result"
    }
   ],
   "source": [
    "dataset['vehicleType'].value_counts()"
   ]
  },
  {
   "cell_type": "code",
   "execution_count": 26,
   "metadata": {},
   "outputs": [
    {
     "data": {
      "text/plain": [
       "manuell      205182\n",
       "automatic     62839\n",
       "Name: gearbox, dtype: int64"
      ]
     },
     "execution_count": 26,
     "metadata": {},
     "output_type": "execute_result"
    }
   ],
   "source": [
    "dataset['gearbox'].value_counts()"
   ]
  },
  {
   "cell_type": "code",
   "execution_count": 27,
   "metadata": {},
   "outputs": [
    {
     "data": {
      "text/plain": [
       "benzin     174482\n",
       "diesel      88463\n",
       "lpg          4184\n",
       "cng           470\n",
       "hybrid        243\n",
       "andere         99\n",
       "elektro        80\n",
       "Name: fuelType, dtype: int64"
      ]
     },
     "execution_count": 27,
     "metadata": {},
     "output_type": "execute_result"
    }
   ],
   "source": [
    "dataset['fuelType'].value_counts()"
   ]
  },
  {
   "cell_type": "code",
   "execution_count": 28,
   "metadata": {},
   "outputs": [
    {
     "data": {
      "text/plain": [
       "volkswagen        55213\n",
       "bmw               30879\n",
       "mercedes_benz     27268\n",
       "opel              26959\n",
       "audi              25122\n",
       "ford              17778\n",
       "renault           11924\n",
       "peugeot            8125\n",
       "fiat               6511\n",
       "seat               5096\n",
       "skoda              4589\n",
       "mazda              4153\n",
       "toyota             3758\n",
       "citroen            3756\n",
       "nissan             3654\n",
       "smart              3424\n",
       "mini               2898\n",
       "hyundai            2860\n",
       "volvo              2619\n",
       "sonstige_autos     2162\n",
       "mitsubishi         2125\n",
       "kia                2009\n",
       "honda              1997\n",
       "porsche            1880\n",
       "alfa_romeo         1740\n",
       "suzuki             1729\n",
       "chevrolet          1386\n",
       "chrysler           1064\n",
       "dacia               733\n",
       "land_rover          639\n",
       "jeep                621\n",
       "subaru              561\n",
       "daihatsu            530\n",
       "jaguar              492\n",
       "saab                426\n",
       "daewoo              351\n",
       "lancia              328\n",
       "rover               288\n",
       "trabant             225\n",
       "lada                149\n",
       "Name: brand, dtype: int64"
      ]
     },
     "execution_count": 28,
     "metadata": {},
     "output_type": "execute_result"
    }
   ],
   "source": [
    "dataset['brand'].value_counts()"
   ]
  },
  {
   "cell_type": "code",
   "execution_count": 29,
   "metadata": {},
   "outputs": [
    {
     "data": {
      "text/plain": [
       "no     238714\n",
       "yes     29307\n",
       "Name: notRepairedDamage, dtype: int64"
      ]
     },
     "execution_count": 29,
     "metadata": {},
     "output_type": "execute_result"
    }
   ],
   "source": [
    "dataset['notRepairedDamage'].value_counts()"
   ]
  },
  {
   "cell_type": "code",
   "execution_count": 30,
   "metadata": {},
   "outputs": [],
   "source": [
    "dataset = dataset[[\"vehicleType\",\"yearOfRegistration\",\"gearbox\",\"powerPS\",\"kilometer\",\"monthOfRegistration\",\"fuelType\",\"brand\",\"notRepairedDamage\",\"price\"]]"
   ]
  },
  {
   "cell_type": "code",
   "execution_count": 31,
   "metadata": {},
   "outputs": [
    {
     "data": {
      "text/html": [
       "<div>\n",
       "<style scoped>\n",
       "    .dataframe tbody tr th:only-of-type {\n",
       "        vertical-align: middle;\n",
       "    }\n",
       "\n",
       "    .dataframe tbody tr th {\n",
       "        vertical-align: top;\n",
       "    }\n",
       "\n",
       "    .dataframe thead th {\n",
       "        text-align: right;\n",
       "    }\n",
       "</style>\n",
       "<table border=\"1\" class=\"dataframe\">\n",
       "  <thead>\n",
       "    <tr style=\"text-align: right;\">\n",
       "      <th></th>\n",
       "      <th>vehicleType</th>\n",
       "      <th>yearOfRegistration</th>\n",
       "      <th>gearbox</th>\n",
       "      <th>powerPS</th>\n",
       "      <th>kilometer</th>\n",
       "      <th>monthOfRegistration</th>\n",
       "      <th>fuelType</th>\n",
       "      <th>brand</th>\n",
       "      <th>notRepairedDamage</th>\n",
       "      <th>price</th>\n",
       "    </tr>\n",
       "  </thead>\n",
       "  <tbody>\n",
       "    <tr>\n",
       "      <th>1</th>\n",
       "      <td>coupe</td>\n",
       "      <td>2011.0</td>\n",
       "      <td>manuell</td>\n",
       "      <td>190.0</td>\n",
       "      <td>125000</td>\n",
       "      <td>5.0</td>\n",
       "      <td>diesel</td>\n",
       "      <td>audi</td>\n",
       "      <td>yes</td>\n",
       "      <td>18300.0</td>\n",
       "    </tr>\n",
       "    <tr>\n",
       "      <th>3</th>\n",
       "      <td>kleinwagen</td>\n",
       "      <td>2001.0</td>\n",
       "      <td>manuell</td>\n",
       "      <td>75.0</td>\n",
       "      <td>150000</td>\n",
       "      <td>6.0</td>\n",
       "      <td>benzin</td>\n",
       "      <td>volkswagen</td>\n",
       "      <td>no</td>\n",
       "      <td>1500.0</td>\n",
       "    </tr>\n",
       "    <tr>\n",
       "      <th>4</th>\n",
       "      <td>kleinwagen</td>\n",
       "      <td>2008.0</td>\n",
       "      <td>manuell</td>\n",
       "      <td>69.0</td>\n",
       "      <td>90000</td>\n",
       "      <td>7.0</td>\n",
       "      <td>diesel</td>\n",
       "      <td>skoda</td>\n",
       "      <td>no</td>\n",
       "      <td>3600.0</td>\n",
       "    </tr>\n",
       "    <tr>\n",
       "      <th>5</th>\n",
       "      <td>limousine</td>\n",
       "      <td>1995.0</td>\n",
       "      <td>manuell</td>\n",
       "      <td>102.0</td>\n",
       "      <td>150000</td>\n",
       "      <td>10.0</td>\n",
       "      <td>benzin</td>\n",
       "      <td>bmw</td>\n",
       "      <td>yes</td>\n",
       "      <td>650.0</td>\n",
       "    </tr>\n",
       "    <tr>\n",
       "      <th>6</th>\n",
       "      <td>cabrio</td>\n",
       "      <td>2004.0</td>\n",
       "      <td>manuell</td>\n",
       "      <td>109.0</td>\n",
       "      <td>150000</td>\n",
       "      <td>8.0</td>\n",
       "      <td>benzin</td>\n",
       "      <td>peugeot</td>\n",
       "      <td>no</td>\n",
       "      <td>2200.0</td>\n",
       "    </tr>\n",
       "    <tr>\n",
       "      <th>...</th>\n",
       "      <td>...</td>\n",
       "      <td>...</td>\n",
       "      <td>...</td>\n",
       "      <td>...</td>\n",
       "      <td>...</td>\n",
       "      <td>...</td>\n",
       "      <td>...</td>\n",
       "      <td>...</td>\n",
       "      <td>...</td>\n",
       "      <td>...</td>\n",
       "    </tr>\n",
       "    <tr>\n",
       "      <th>371531</th>\n",
       "      <td>limousine</td>\n",
       "      <td>2004.0</td>\n",
       "      <td>manuell</td>\n",
       "      <td>225.0</td>\n",
       "      <td>150000</td>\n",
       "      <td>5.0</td>\n",
       "      <td>benzin</td>\n",
       "      <td>seat</td>\n",
       "      <td>yes</td>\n",
       "      <td>3200.0</td>\n",
       "    </tr>\n",
       "    <tr>\n",
       "      <th>371532</th>\n",
       "      <td>bus</td>\n",
       "      <td>2000.0</td>\n",
       "      <td>manuell</td>\n",
       "      <td>0.0</td>\n",
       "      <td>150000</td>\n",
       "      <td>3.0</td>\n",
       "      <td>benzin</td>\n",
       "      <td>opel</td>\n",
       "      <td>no</td>\n",
       "      <td>1150.0</td>\n",
       "    </tr>\n",
       "    <tr>\n",
       "      <th>371535</th>\n",
       "      <td>cabrio</td>\n",
       "      <td>2000.0</td>\n",
       "      <td>automatic</td>\n",
       "      <td>101.0</td>\n",
       "      <td>125000</td>\n",
       "      <td>3.0</td>\n",
       "      <td>benzin</td>\n",
       "      <td>smart</td>\n",
       "      <td>no</td>\n",
       "      <td>1199.0</td>\n",
       "    </tr>\n",
       "    <tr>\n",
       "      <th>371536</th>\n",
       "      <td>bus</td>\n",
       "      <td>1996.0</td>\n",
       "      <td>manuell</td>\n",
       "      <td>102.0</td>\n",
       "      <td>150000</td>\n",
       "      <td>3.0</td>\n",
       "      <td>diesel</td>\n",
       "      <td>volkswagen</td>\n",
       "      <td>no</td>\n",
       "      <td>9200.0</td>\n",
       "    </tr>\n",
       "    <tr>\n",
       "      <th>371538</th>\n",
       "      <td>limousine</td>\n",
       "      <td>2013.0</td>\n",
       "      <td>manuell</td>\n",
       "      <td>320.0</td>\n",
       "      <td>50000</td>\n",
       "      <td>8.0</td>\n",
       "      <td>benzin</td>\n",
       "      <td>bmw</td>\n",
       "      <td>no</td>\n",
       "      <td>28990.0</td>\n",
       "    </tr>\n",
       "  </tbody>\n",
       "</table>\n",
       "<p>268021 rows × 10 columns</p>\n",
       "</div>"
      ],
      "text/plain": [
       "       vehicleType  yearOfRegistration    gearbox  powerPS kilometer  \\\n",
       "1            coupe              2011.0    manuell    190.0    125000   \n",
       "3       kleinwagen              2001.0    manuell     75.0    150000   \n",
       "4       kleinwagen              2008.0    manuell     69.0     90000   \n",
       "5        limousine              1995.0    manuell    102.0    150000   \n",
       "6           cabrio              2004.0    manuell    109.0    150000   \n",
       "...            ...                 ...        ...      ...       ...   \n",
       "371531   limousine              2004.0    manuell    225.0    150000   \n",
       "371532         bus              2000.0    manuell      0.0    150000   \n",
       "371535      cabrio              2000.0  automatic    101.0    125000   \n",
       "371536         bus              1996.0    manuell    102.0    150000   \n",
       "371538   limousine              2013.0    manuell    320.0     50000   \n",
       "\n",
       "        monthOfRegistration fuelType       brand notRepairedDamage    price  \n",
       "1                       5.0   diesel        audi               yes  18300.0  \n",
       "3                       6.0   benzin  volkswagen                no   1500.0  \n",
       "4                       7.0   diesel       skoda                no   3600.0  \n",
       "5                      10.0   benzin         bmw               yes    650.0  \n",
       "6                       8.0   benzin     peugeot                no   2200.0  \n",
       "...                     ...      ...         ...               ...      ...  \n",
       "371531                  5.0   benzin        seat               yes   3200.0  \n",
       "371532                  3.0   benzin        opel                no   1150.0  \n",
       "371535                  3.0   benzin       smart                no   1199.0  \n",
       "371536                  3.0   diesel  volkswagen                no   9200.0  \n",
       "371538                  8.0   benzin         bmw                no  28990.0  \n",
       "\n",
       "[268021 rows x 10 columns]"
      ]
     },
     "execution_count": 31,
     "metadata": {},
     "output_type": "execute_result"
    }
   ],
   "source": [
    "dataset"
   ]
  },
  {
   "cell_type": "code",
   "execution_count": 32,
   "metadata": {
    "scrolled": true
   },
   "outputs": [
    {
     "data": {
      "text/html": [
       "<div>\n",
       "<style scoped>\n",
       "    .dataframe tbody tr th:only-of-type {\n",
       "        vertical-align: middle;\n",
       "    }\n",
       "\n",
       "    .dataframe tbody tr th {\n",
       "        vertical-align: top;\n",
       "    }\n",
       "\n",
       "    .dataframe thead th {\n",
       "        text-align: right;\n",
       "    }\n",
       "</style>\n",
       "<table border=\"1\" class=\"dataframe\">\n",
       "  <thead>\n",
       "    <tr style=\"text-align: right;\">\n",
       "      <th></th>\n",
       "      <th>vehicleType</th>\n",
       "      <th>yearOfRegistration</th>\n",
       "      <th>gearbox</th>\n",
       "      <th>powerPS</th>\n",
       "      <th>kilometer</th>\n",
       "      <th>monthOfRegistration</th>\n",
       "      <th>fuelType</th>\n",
       "      <th>brand</th>\n",
       "      <th>notRepairedDamage</th>\n",
       "      <th>price</th>\n",
       "    </tr>\n",
       "  </thead>\n",
       "  <tbody>\n",
       "    <tr>\n",
       "      <th>1</th>\n",
       "      <td>coupe</td>\n",
       "      <td>2011.0</td>\n",
       "      <td>manuell</td>\n",
       "      <td>190.0</td>\n",
       "      <td>125000</td>\n",
       "      <td>5.0</td>\n",
       "      <td>diesel</td>\n",
       "      <td>audi</td>\n",
       "      <td>yes</td>\n",
       "      <td>18300.0</td>\n",
       "    </tr>\n",
       "    <tr>\n",
       "      <th>3</th>\n",
       "      <td>kleinwagen</td>\n",
       "      <td>2001.0</td>\n",
       "      <td>manuell</td>\n",
       "      <td>75.0</td>\n",
       "      <td>150000</td>\n",
       "      <td>6.0</td>\n",
       "      <td>benzin</td>\n",
       "      <td>volkswagen</td>\n",
       "      <td>no</td>\n",
       "      <td>1500.0</td>\n",
       "    </tr>\n",
       "    <tr>\n",
       "      <th>4</th>\n",
       "      <td>kleinwagen</td>\n",
       "      <td>2008.0</td>\n",
       "      <td>manuell</td>\n",
       "      <td>69.0</td>\n",
       "      <td>90000</td>\n",
       "      <td>7.0</td>\n",
       "      <td>diesel</td>\n",
       "      <td>skoda</td>\n",
       "      <td>no</td>\n",
       "      <td>3600.0</td>\n",
       "    </tr>\n",
       "    <tr>\n",
       "      <th>5</th>\n",
       "      <td>limousine</td>\n",
       "      <td>1995.0</td>\n",
       "      <td>manuell</td>\n",
       "      <td>102.0</td>\n",
       "      <td>150000</td>\n",
       "      <td>10.0</td>\n",
       "      <td>benzin</td>\n",
       "      <td>bmw</td>\n",
       "      <td>yes</td>\n",
       "      <td>650.0</td>\n",
       "    </tr>\n",
       "    <tr>\n",
       "      <th>6</th>\n",
       "      <td>cabrio</td>\n",
       "      <td>2004.0</td>\n",
       "      <td>manuell</td>\n",
       "      <td>109.0</td>\n",
       "      <td>150000</td>\n",
       "      <td>8.0</td>\n",
       "      <td>benzin</td>\n",
       "      <td>peugeot</td>\n",
       "      <td>no</td>\n",
       "      <td>2200.0</td>\n",
       "    </tr>\n",
       "    <tr>\n",
       "      <th>...</th>\n",
       "      <td>...</td>\n",
       "      <td>...</td>\n",
       "      <td>...</td>\n",
       "      <td>...</td>\n",
       "      <td>...</td>\n",
       "      <td>...</td>\n",
       "      <td>...</td>\n",
       "      <td>...</td>\n",
       "      <td>...</td>\n",
       "      <td>...</td>\n",
       "    </tr>\n",
       "    <tr>\n",
       "      <th>371529</th>\n",
       "      <td>kombi</td>\n",
       "      <td>2005.0</td>\n",
       "      <td>manuell</td>\n",
       "      <td>3.0</td>\n",
       "      <td>150000</td>\n",
       "      <td>5.0</td>\n",
       "      <td>diesel</td>\n",
       "      <td>bmw</td>\n",
       "      <td>no</td>\n",
       "      <td>3999.0</td>\n",
       "    </tr>\n",
       "    <tr>\n",
       "      <th>371531</th>\n",
       "      <td>limousine</td>\n",
       "      <td>2004.0</td>\n",
       "      <td>manuell</td>\n",
       "      <td>225.0</td>\n",
       "      <td>150000</td>\n",
       "      <td>5.0</td>\n",
       "      <td>benzin</td>\n",
       "      <td>seat</td>\n",
       "      <td>yes</td>\n",
       "      <td>3200.0</td>\n",
       "    </tr>\n",
       "    <tr>\n",
       "      <th>371532</th>\n",
       "      <td>bus</td>\n",
       "      <td>2000.0</td>\n",
       "      <td>manuell</td>\n",
       "      <td>0.0</td>\n",
       "      <td>150000</td>\n",
       "      <td>3.0</td>\n",
       "      <td>benzin</td>\n",
       "      <td>opel</td>\n",
       "      <td>no</td>\n",
       "      <td>1150.0</td>\n",
       "    </tr>\n",
       "    <tr>\n",
       "      <th>371535</th>\n",
       "      <td>cabrio</td>\n",
       "      <td>2000.0</td>\n",
       "      <td>automatic</td>\n",
       "      <td>101.0</td>\n",
       "      <td>125000</td>\n",
       "      <td>3.0</td>\n",
       "      <td>benzin</td>\n",
       "      <td>smart</td>\n",
       "      <td>no</td>\n",
       "      <td>1199.0</td>\n",
       "    </tr>\n",
       "    <tr>\n",
       "      <th>371536</th>\n",
       "      <td>bus</td>\n",
       "      <td>1996.0</td>\n",
       "      <td>manuell</td>\n",
       "      <td>102.0</td>\n",
       "      <td>150000</td>\n",
       "      <td>3.0</td>\n",
       "      <td>diesel</td>\n",
       "      <td>volkswagen</td>\n",
       "      <td>no</td>\n",
       "      <td>9200.0</td>\n",
       "    </tr>\n",
       "  </tbody>\n",
       "</table>\n",
       "<p>241760 rows × 10 columns</p>\n",
       "</div>"
      ],
      "text/plain": [
       "       vehicleType  yearOfRegistration    gearbox  powerPS kilometer  \\\n",
       "1            coupe              2011.0    manuell    190.0    125000   \n",
       "3       kleinwagen              2001.0    manuell     75.0    150000   \n",
       "4       kleinwagen              2008.0    manuell     69.0     90000   \n",
       "5        limousine              1995.0    manuell    102.0    150000   \n",
       "6           cabrio              2004.0    manuell    109.0    150000   \n",
       "...            ...                 ...        ...      ...       ...   \n",
       "371529       kombi              2005.0    manuell      3.0    150000   \n",
       "371531   limousine              2004.0    manuell    225.0    150000   \n",
       "371532         bus              2000.0    manuell      0.0    150000   \n",
       "371535      cabrio              2000.0  automatic    101.0    125000   \n",
       "371536         bus              1996.0    manuell    102.0    150000   \n",
       "\n",
       "        monthOfRegistration fuelType       brand notRepairedDamage    price  \n",
       "1                       5.0   diesel        audi               yes  18300.0  \n",
       "3                       6.0   benzin  volkswagen                no   1500.0  \n",
       "4                       7.0   diesel       skoda                no   3600.0  \n",
       "5                      10.0   benzin         bmw               yes    650.0  \n",
       "6                       8.0   benzin     peugeot                no   2200.0  \n",
       "...                     ...      ...         ...               ...      ...  \n",
       "371529                  5.0   diesel         bmw                no   3999.0  \n",
       "371531                  5.0   benzin        seat               yes   3200.0  \n",
       "371532                  3.0   benzin        opel                no   1150.0  \n",
       "371535                  3.0   benzin       smart                no   1199.0  \n",
       "371536                  3.0   diesel  volkswagen                no   9200.0  \n",
       "\n",
       "[241760 rows x 10 columns]"
      ]
     },
     "execution_count": 32,
     "metadata": {},
     "output_type": "execute_result"
    }
   ],
   "source": [
    "Q1=dataset.quantile(0.25)\n",
    "Q3=dataset.quantile(0.75)\n",
    "IQR=Q3-Q1\n",
    "dataset= dataset[~((dataset<(Q1-1.5*IQR))|(dataset>(Q3 + 1.5*IQR))).any(axis=1)]\n",
    "dataset"
   ]
  },
  {
   "cell_type": "code",
   "execution_count": 33,
   "metadata": {},
   "outputs": [
    {
     "data": {
      "text/plain": [
       "(241760, 10)"
      ]
     },
     "execution_count": 33,
     "metadata": {},
     "output_type": "execute_result"
    }
   ],
   "source": [
    "dataset.shape"
   ]
  },
  {
   "cell_type": "code",
   "execution_count": 34,
   "metadata": {},
   "outputs": [],
   "source": [
    "x=dataset.iloc[:,0:-1].values\n",
    "y=dataset.iloc[:,-1].values"
   ]
  },
  {
   "cell_type": "code",
   "execution_count": 35,
   "metadata": {},
   "outputs": [
    {
     "data": {
      "text/plain": [
       "(241760, 9)"
      ]
     },
     "execution_count": 35,
     "metadata": {},
     "output_type": "execute_result"
    }
   ],
   "source": [
    "x.shape"
   ]
  },
  {
   "cell_type": "code",
   "execution_count": 36,
   "metadata": {},
   "outputs": [
    {
     "data": {
      "text/plain": [
       "(241760,)"
      ]
     },
     "execution_count": 36,
     "metadata": {},
     "output_type": "execute_result"
    }
   ],
   "source": [
    "y.shape"
   ]
  },
  {
   "cell_type": "code",
   "execution_count": 37,
   "metadata": {
    "scrolled": true
   },
   "outputs": [
    {
     "data": {
      "text/plain": [
       "array(['coupe', 2011.0, 'manuell', 190.0, '125000', 5.0, 'diesel', 'audi',\n",
       "       'yes'], dtype=object)"
      ]
     },
     "execution_count": 37,
     "metadata": {},
     "output_type": "execute_result"
    }
   ],
   "source": [
    "x[0]"
   ]
  },
  {
   "cell_type": "code",
   "execution_count": 38,
   "metadata": {},
   "outputs": [
    {
     "data": {
      "text/plain": [
       "array([[0.0, 0.0, 0.0, ..., 'diesel', 'audi', 'yes'],\n",
       "       [0.0, 0.0, 0.0, ..., 'benzin', 'volkswagen', 'no'],\n",
       "       [0.0, 0.0, 0.0, ..., 'diesel', 'skoda', 'no'],\n",
       "       ...,\n",
       "       [0.0, 1.0, 0.0, ..., 'benzin', 'opel', 'no'],\n",
       "       [0.0, 0.0, 1.0, ..., 'benzin', 'smart', 'no'],\n",
       "       [0.0, 1.0, 0.0, ..., 'diesel', 'volkswagen', 'no']], dtype=object)"
      ]
     },
     "execution_count": 38,
     "metadata": {},
     "output_type": "execute_result"
    }
   ],
   "source": [
    "ct=ColumnTransformer([('on',OneHotEncoder(),[0])],remainder='passthrough')\n",
    "x=ct.fit_transform(x)\n",
    "x"
   ]
  },
  {
   "cell_type": "code",
   "execution_count": 39,
   "metadata": {},
   "outputs": [
    {
     "data": {
      "text/plain": [
       "['transform']"
      ]
     },
     "execution_count": 39,
     "metadata": {},
     "output_type": "execute_result"
    }
   ],
   "source": [
    "import joblib\n",
    "joblib.dump(ct,'transform')"
   ]
  },
  {
   "cell_type": "code",
   "execution_count": 40,
   "metadata": {
    "scrolled": true
   },
   "outputs": [
    {
     "data": {
      "text/plain": [
       "(241760, 15)"
      ]
     },
     "execution_count": 40,
     "metadata": {},
     "output_type": "execute_result"
    }
   ],
   "source": [
    "x=x[:,1:]\n",
    "x.shape"
   ]
  },
  {
   "cell_type": "code",
   "execution_count": 41,
   "metadata": {},
   "outputs": [
    {
     "data": {
      "text/plain": [
       "array([0.0, 0.0, 1.0, 0.0, 0.0, 0.0, 0.0, 2011.0, 'manuell', 190.0,\n",
       "       '125000', 5.0, 'diesel', 'audi', 'yes'], dtype=object)"
      ]
     },
     "execution_count": 41,
     "metadata": {},
     "output_type": "execute_result"
    }
   ],
   "source": [
    "x[0]"
   ]
  },
  {
   "cell_type": "code",
   "execution_count": 42,
   "metadata": {},
   "outputs": [
    {
     "data": {
      "text/plain": [
       "array([[0.0, 1.0, 0.0, ..., 'diesel', 'audi', 'yes'],\n",
       "       [0.0, 1.0, 0.0, ..., 'benzin', 'volkswagen', 'no'],\n",
       "       [0.0, 1.0, 0.0, ..., 'diesel', 'skoda', 'no'],\n",
       "       ...,\n",
       "       [0.0, 1.0, 1.0, ..., 'benzin', 'opel', 'no'],\n",
       "       [1.0, 0.0, 0.0, ..., 'benzin', 'smart', 'no'],\n",
       "       [0.0, 1.0, 1.0, ..., 'diesel', 'volkswagen', 'no']], dtype=object)"
      ]
     },
     "execution_count": 42,
     "metadata": {},
     "output_type": "execute_result"
    }
   ],
   "source": [
    "ct=ColumnTransformer([('on',OneHotEncoder(),[8])],remainder='passthrough')\n",
    "x=ct.fit_transform(x)\n",
    "x"
   ]
  },
  {
   "cell_type": "code",
   "execution_count": 43,
   "metadata": {},
   "outputs": [
    {
     "data": {
      "text/plain": [
       "['transform1']"
      ]
     },
     "execution_count": 43,
     "metadata": {},
     "output_type": "execute_result"
    }
   ],
   "source": [
    "import joblib\n",
    "joblib.dump(ct,'transform1')"
   ]
  },
  {
   "cell_type": "code",
   "execution_count": 44,
   "metadata": {},
   "outputs": [
    {
     "data": {
      "text/plain": [
       "(241760, 16)"
      ]
     },
     "execution_count": 44,
     "metadata": {},
     "output_type": "execute_result"
    }
   ],
   "source": [
    "x.shape"
   ]
  },
  {
   "cell_type": "code",
   "execution_count": 45,
   "metadata": {},
   "outputs": [
    {
     "data": {
      "text/plain": [
       "array([0.0, 1.0, 0.0, 0.0, 1.0, 0.0, 0.0, 0.0, 0.0, 2011.0, 190.0,\n",
       "       '125000', 5.0, 'diesel', 'audi', 'yes'], dtype=object)"
      ]
     },
     "execution_count": 45,
     "metadata": {},
     "output_type": "execute_result"
    }
   ],
   "source": [
    "x[0]"
   ]
  },
  {
   "cell_type": "code",
   "execution_count": 46,
   "metadata": {},
   "outputs": [
    {
     "data": {
      "text/plain": [
       "array([[0.0, 0.0, 0.0, ..., 5.0, 'audi', 'yes'],\n",
       "       [0.0, 1.0, 0.0, ..., 6.0, 'volkswagen', 'no'],\n",
       "       [0.0, 0.0, 0.0, ..., 7.0, 'skoda', 'no'],\n",
       "       ...,\n",
       "       [0.0, 1.0, 0.0, ..., 3.0, 'opel', 'no'],\n",
       "       [0.0, 1.0, 0.0, ..., 3.0, 'smart', 'no'],\n",
       "       [0.0, 0.0, 0.0, ..., 3.0, 'volkswagen', 'no']], dtype=object)"
      ]
     },
     "execution_count": 46,
     "metadata": {},
     "output_type": "execute_result"
    }
   ],
   "source": [
    "ct=ColumnTransformer([('on',OneHotEncoder(),[13])],remainder='passthrough')\n",
    "x=ct.fit_transform(x)\n",
    "x"
   ]
  },
  {
   "cell_type": "code",
   "execution_count": 47,
   "metadata": {},
   "outputs": [
    {
     "data": {
      "text/plain": [
       "['transform2']"
      ]
     },
     "execution_count": 47,
     "metadata": {},
     "output_type": "execute_result"
    }
   ],
   "source": [
    "import joblib\n",
    "joblib.dump(ct,'transform2')"
   ]
  },
  {
   "cell_type": "code",
   "execution_count": 48,
   "metadata": {},
   "outputs": [
    {
     "data": {
      "text/plain": [
       "(241760, 21)"
      ]
     },
     "execution_count": 48,
     "metadata": {},
     "output_type": "execute_result"
    }
   ],
   "source": [
    "x=x[:,1:]\n",
    "x.shape"
   ]
  },
  {
   "cell_type": "code",
   "execution_count": 49,
   "metadata": {},
   "outputs": [
    {
     "data": {
      "text/plain": [
       "array([0.0, 0.0, 1.0, 0.0, 0.0, 0.0, 0.0, 1.0, 0.0, 0.0, 1.0, 0.0, 0.0,\n",
       "       0.0, 0.0, 2011.0, 190.0, '125000', 5.0, 'audi', 'yes'],\n",
       "      dtype=object)"
      ]
     },
     "execution_count": 49,
     "metadata": {},
     "output_type": "execute_result"
    }
   ],
   "source": [
    "x[0]"
   ]
  },
  {
   "cell_type": "code",
   "execution_count": 50,
   "metadata": {},
   "outputs": [
    {
     "data": {
      "text/plain": [
       "array([[0.0, 1.0, 0.0, ..., '125000', 5.0, 'yes'],\n",
       "       [0.0, 0.0, 0.0, ..., '150000', 6.0, 'no'],\n",
       "       [0.0, 0.0, 0.0, ..., '90000', 7.0, 'no'],\n",
       "       ...,\n",
       "       [0.0, 0.0, 0.0, ..., '150000', 3.0, 'no'],\n",
       "       [0.0, 0.0, 0.0, ..., '125000', 3.0, 'no'],\n",
       "       [0.0, 0.0, 0.0, ..., '150000', 3.0, 'no']], dtype=object)"
      ]
     },
     "execution_count": 50,
     "metadata": {},
     "output_type": "execute_result"
    }
   ],
   "source": [
    "ct=ColumnTransformer([('on',OneHotEncoder(),[19])],remainder='passthrough')\n",
    "x=ct.fit_transform(x)\n",
    "x"
   ]
  },
  {
   "cell_type": "code",
   "execution_count": 51,
   "metadata": {},
   "outputs": [
    {
     "data": {
      "text/plain": [
       "['transform3']"
      ]
     },
     "execution_count": 51,
     "metadata": {},
     "output_type": "execute_result"
    }
   ],
   "source": [
    "import joblib\n",
    "joblib.dump(ct,'transform3')"
   ]
  },
  {
   "cell_type": "code",
   "execution_count": 52,
   "metadata": {},
   "outputs": [
    {
     "data": {
      "text/plain": [
       "(241760, 59)"
      ]
     },
     "execution_count": 52,
     "metadata": {},
     "output_type": "execute_result"
    }
   ],
   "source": [
    "x=x[:,1:]\n",
    "x.shape"
   ]
  },
  {
   "cell_type": "code",
   "execution_count": 53,
   "metadata": {},
   "outputs": [
    {
     "data": {
      "text/plain": [
       "array([1.0, 0.0, 0.0, 0.0, 0.0, 0.0, 0.0, 0.0, 0.0, 0.0, 0.0, 0.0, 0.0,\n",
       "       0.0, 0.0, 0.0, 0.0, 0.0, 0.0, 0.0, 0.0, 0.0, 0.0, 0.0, 0.0, 0.0,\n",
       "       0.0, 0.0, 0.0, 0.0, 0.0, 0.0, 0.0, 0.0, 0.0, 0.0, 0.0, 0.0, 0.0,\n",
       "       0.0, 0.0, 1.0, 0.0, 0.0, 0.0, 0.0, 1.0, 0.0, 0.0, 1.0, 0.0, 0.0,\n",
       "       0.0, 0.0, 2011.0, 190.0, '125000', 5.0, 'yes'], dtype=object)"
      ]
     },
     "execution_count": 53,
     "metadata": {},
     "output_type": "execute_result"
    }
   ],
   "source": [
    "x[0]"
   ]
  },
  {
   "cell_type": "code",
   "execution_count": 54,
   "metadata": {
    "scrolled": true
   },
   "outputs": [
    {
     "data": {
      "text/plain": [
       "array([[0.0, 1.0, 1.0, ..., 190.0, '125000', 5.0],\n",
       "       [1.0, 0.0, 0.0, ..., 75.0, '150000', 6.0],\n",
       "       [1.0, 0.0, 0.0, ..., 69.0, '90000', 7.0],\n",
       "       ...,\n",
       "       [1.0, 0.0, 0.0, ..., 0.0, '150000', 3.0],\n",
       "       [1.0, 0.0, 0.0, ..., 101.0, '125000', 3.0],\n",
       "       [1.0, 0.0, 0.0, ..., 102.0, '150000', 3.0]], dtype=object)"
      ]
     },
     "execution_count": 54,
     "metadata": {},
     "output_type": "execute_result"
    }
   ],
   "source": [
    "ct=ColumnTransformer([('on',OneHotEncoder(),[-1])],remainder='passthrough')\n",
    "x=ct.fit_transform(x)\n",
    "x"
   ]
  },
  {
   "cell_type": "code",
   "execution_count": 55,
   "metadata": {},
   "outputs": [
    {
     "data": {
      "text/plain": [
       "['transform4']"
      ]
     },
     "execution_count": 55,
     "metadata": {},
     "output_type": "execute_result"
    }
   ],
   "source": [
    "import joblib\n",
    "joblib.dump(ct,'transform4')"
   ]
  },
  {
   "cell_type": "code",
   "execution_count": 56,
   "metadata": {},
   "outputs": [
    {
     "data": {
      "text/plain": [
       "(241760, 60)"
      ]
     },
     "execution_count": 56,
     "metadata": {},
     "output_type": "execute_result"
    }
   ],
   "source": [
    "x.shape"
   ]
  },
  {
   "cell_type": "code",
   "execution_count": 57,
   "metadata": {
    "scrolled": true
   },
   "outputs": [
    {
     "data": {
      "text/plain": [
       "array([[-2.75280158,  2.75280158,  3.28503351, ...,  1.50823414,\n",
       "        -0.07598676, -0.33452408],\n",
       "       [ 0.36326628, -0.36326628, -0.3044109 , ..., -0.76265537,\n",
       "         0.60459088, -0.04797169],\n",
       "       [ 0.36326628, -0.36326628, -0.3044109 , ..., -0.88113656,\n",
       "        -1.02879547,  0.23858071],\n",
       "       ...,\n",
       "       [ 0.36326628, -0.36326628, -0.3044109 , ..., -2.24367027,\n",
       "         0.60459088, -0.90762887],\n",
       "       [ 0.36326628, -0.36326628, -0.3044109 , ..., -0.24923687,\n",
       "        -0.07598676, -0.90762887],\n",
       "       [ 0.36326628, -0.36326628, -0.3044109 , ..., -0.22949001,\n",
       "         0.60459088, -0.90762887]])"
      ]
     },
     "execution_count": 57,
     "metadata": {},
     "output_type": "execute_result"
    }
   ],
   "source": [
    "from sklearn.preprocessing import StandardScaler\n",
    "sc=StandardScaler()\n",
    "x=sc.fit_transform(x)\n",
    "x"
   ]
  },
  {
   "cell_type": "code",
   "execution_count": 58,
   "metadata": {},
   "outputs": [
    {
     "data": {
      "text/plain": [
       "array([-2.75280158,  2.75280158,  3.28503351, -0.34662838, -0.06955563,\n",
       "       -0.06460935, -0.1238794 , -0.05510891, -0.03813088, -0.04673981,\n",
       "       -0.16367964, -0.27544652, -0.09038403, -0.10797302, -0.03374592,\n",
       "       -0.04351878, -0.08926093, -0.02328419, -0.03536573, -0.03893833,\n",
       "       -0.12949168, -0.31501407, -0.10519435, -0.0925907 , -0.12016085,\n",
       "       -0.34958584, -0.18583037, -0.03300061, -0.2265546 , -0.03405167,\n",
       "       -0.04055645, -0.14398062, -0.13621457, -0.11973505, -0.06550701,\n",
       "       -0.04566085, -0.08427656, -0.12348295, -0.02415706, -0.5200659 ,\n",
       "       -0.10009145, -1.39270141, -0.04375666,  1.4522443 , -0.01652491,\n",
       "       -0.0283389 , -0.12437759, -0.49027273,  0.49027273, -0.33033017,\n",
       "       -0.26217687,  4.60591608, -0.57505767, -0.51579471, -0.63741095,\n",
       "       -0.19677395,  1.45529469,  1.50823414, -0.07598676, -0.33452408])"
      ]
     },
     "execution_count": 58,
     "metadata": {},
     "output_type": "execute_result"
    }
   ],
   "source": [
    "x[0]"
   ]
  },
  {
   "cell_type": "code",
   "execution_count": 59,
   "metadata": {},
   "outputs": [],
   "source": [
    "from sklearn.model_selection import train_test_split\n",
    "x_train,x_test,y_train,y_test=train_test_split(x,y,test_size=0.3,random_state=0)"
   ]
  },
  {
   "cell_type": "code",
   "execution_count": 60,
   "metadata": {},
   "outputs": [],
   "source": [
    "from sklearn.linear_model import LinearRegression\n",
    "mr=LinearRegression()"
   ]
  },
  {
   "cell_type": "code",
   "execution_count": 61,
   "metadata": {},
   "outputs": [
    {
     "data": {
      "text/plain": [
       "LinearRegression()"
      ]
     },
     "execution_count": 61,
     "metadata": {},
     "output_type": "execute_result"
    }
   ],
   "source": [
    "mr.fit(x_train,y_train)"
   ]
  },
  {
   "cell_type": "code",
   "execution_count": 62,
   "metadata": {},
   "outputs": [
    {
     "data": {
      "text/plain": [
       "array([ 1354.36920425, -1798.38079575,  -763.88079575, ...,\n",
       "       11799.24420425,  2595.74420425,  5794.86920425])"
      ]
     },
     "execution_count": 62,
     "metadata": {},
     "output_type": "execute_result"
    }
   ],
   "source": [
    "y_pred=mr.predict(x_test)\n",
    "y_pred"
   ]
  },
  {
   "cell_type": "code",
   "execution_count": 63,
   "metadata": {},
   "outputs": [
    {
     "data": {
      "text/plain": [
       "0.7129260895848163"
      ]
     },
     "execution_count": 63,
     "metadata": {},
     "output_type": "execute_result"
    }
   ],
   "source": [
    "from sklearn.metrics import r2_score\n",
    "r2_score(y_test,y_pred)"
   ]
  },
  {
   "cell_type": "code",
   "execution_count": 64,
   "metadata": {},
   "outputs": [],
   "source": [
    "from sklearn.tree import DecisionTreeRegressor\n",
    "dt=DecisionTreeRegressor(criterion='mse',random_state=0)"
   ]
  },
  {
   "cell_type": "code",
   "execution_count": 65,
   "metadata": {},
   "outputs": [
    {
     "data": {
      "text/plain": [
       "DecisionTreeRegressor(random_state=0)"
      ]
     },
     "execution_count": 65,
     "metadata": {},
     "output_type": "execute_result"
    }
   ],
   "source": [
    "dt.fit(x_train,y_train)"
   ]
  },
  {
   "cell_type": "code",
   "execution_count": 66,
   "metadata": {},
   "outputs": [
    {
     "data": {
      "text/plain": [
       "array([ 1549.85714286,  1449.5       ,   850.        , ...,\n",
       "       15900.        ,  2300.        ,  4200.        ])"
      ]
     },
     "execution_count": 66,
     "metadata": {},
     "output_type": "execute_result"
    }
   ],
   "source": [
    "y_pred=dt.predict(x_test)\n",
    "y_pred"
   ]
  },
  {
   "cell_type": "code",
   "execution_count": 67,
   "metadata": {},
   "outputs": [
    {
     "data": {
      "text/plain": [
       "0.8086057160141715"
      ]
     },
     "execution_count": 67,
     "metadata": {},
     "output_type": "execute_result"
    }
   ],
   "source": [
    "from sklearn.metrics import r2_score\n",
    "r2_score(y_test,y_pred)"
   ]
  },
  {
   "cell_type": "code",
   "execution_count": 68,
   "metadata": {
    "scrolled": true
   },
   "outputs": [
    {
     "data": {
      "text/plain": [
       "RandomForestRegressor(n_estimators=20, random_state=0)"
      ]
     },
     "execution_count": 68,
     "metadata": {},
     "output_type": "execute_result"
    }
   ],
   "source": [
    "from sklearn.ensemble import RandomForestRegressor\n",
    "rf=RandomForestRegressor(n_estimators=20,criterion='mse',random_state=0)\n",
    "rf.fit(x_train,y_train)"
   ]
  },
  {
   "cell_type": "code",
   "execution_count": 69,
   "metadata": {
    "scrolled": true
   },
   "outputs": [
    {
     "data": {
      "text/plain": [
       "array([ 1547.65880952,  1420.4875    ,   928.75      , ...,\n",
       "       15393.66666667,  4441.25      ,  4893.6375    ])"
      ]
     },
     "execution_count": 69,
     "metadata": {},
     "output_type": "execute_result"
    }
   ],
   "source": [
    "y_pred=rf.predict(x_test)\n",
    "y_pred"
   ]
  },
  {
   "cell_type": "code",
   "execution_count": 70,
   "metadata": {},
   "outputs": [
    {
     "data": {
      "text/plain": [
       "0.8713623712805285"
      ]
     },
     "execution_count": 70,
     "metadata": {},
     "output_type": "execute_result"
    }
   ],
   "source": [
    "from sklearn.metrics import r2_score\n",
    "r2_score(y_test,y_pred)"
   ]
  },
  {
   "cell_type": "code",
   "execution_count": 71,
   "metadata": {},
   "outputs": [],
   "source": [
    "import pickle\n",
    "#saving the model\n",
    "filename  = 'vehicleresaleprice.pkl'\n",
    "scalerFile= 'scaler.pkl'\n",
    "pickle.dump(rf, open(filename, 'wb'))\n",
    "pickle.dump(sc, open(scalerFile, 'wb'))"
   ]
  },
  {
   "cell_type": "code",
   "execution_count": 72,
   "metadata": {},
   "outputs": [
    {
     "data": {
      "text/plain": [
       "array([ 0.36326628, -0.36326628,  3.28503351, -0.34662838, -0.06955563,\n",
       "       -0.06460935, -0.1238794 , -0.05510891, -0.03813088, -0.04673981,\n",
       "       -0.16367964, -0.27544652, -0.09038403, -0.10797302, -0.03374592,\n",
       "       -0.04351878, -0.08926093, -0.02328419, -0.03536573, -0.03893833,\n",
       "       -0.12949168, -0.31501407, -0.10519435, -0.0925907 , -0.12016085,\n",
       "       -0.34958584, -0.18583037, -0.03300061, -0.2265546 , -0.03405167,\n",
       "       -0.04055645, -0.14398062, -0.13621457, -0.11973505, -0.06550701,\n",
       "       -0.04566085, -0.08427656, -0.12348295, -0.02415706, -0.5200659 ,\n",
       "       -0.10009145, -1.39270141, -0.04375666,  1.4522443 , -0.01652491,\n",
       "       -0.0283389 , -0.12437759, -0.49027273,  0.49027273, -0.33033017,\n",
       "       -0.26217687, -0.21711208, -0.57505767, -0.51579471,  1.5688466 ,\n",
       "       -0.19677395, -1.12926496,  1.11329684,  0.60459088,  1.67134267])"
      ]
     },
     "execution_count": 72,
     "metadata": {},
     "output_type": "execute_result"
    }
   ],
   "source": [
    "x_train[0]"
   ]
  },
  {
   "cell_type": "code",
   "execution_count": 73,
   "metadata": {},
   "outputs": [
    {
     "data": {
      "text/plain": [
       "1.0"
      ]
     },
     "execution_count": 73,
     "metadata": {},
     "output_type": "execute_result"
    }
   ],
   "source": [
    "y_train[0]"
   ]
  },
  {
   "cell_type": "code",
   "execution_count": 74,
   "metadata": {},
   "outputs": [
    {
     "data": {
      "text/plain": [
       "array([920.10333333])"
      ]
     },
     "execution_count": 74,
     "metadata": {},
     "output_type": "execute_result"
    }
   ],
   "source": [
    "out=rf.predict([[2.75225433, -2.75225433, -0.30576029, -0.34873538, -0.06885439,\n",
    "       -0.06489945, -0.12372632, -0.05337956, -0.03833152, -0.0465321 ,\n",
    "       -0.16195443, -0.27531342, -0.0904676 , -0.10638819, -0.03405646,\n",
    "       -0.04385485, -0.08820757, -0.02186329, -0.03545876, -0.03920661,\n",
    "       -0.12965245, -0.31723641, -0.10479151, -0.09225568, -0.11961074,\n",
    "        2.86143764, -0.18591736, -0.03323782, -0.22601947, -0.03436615,\n",
    "       -0.04095283, -0.1433608 , -0.13496269, -0.11800033, -0.06204553,\n",
    "       -0.04579626, -0.08320143, -0.12330292, -0.02157098, -0.52040725,\n",
    "       -0.10082243,  0.72314777, -0.04375796, -0.69368991, -0.01216574,\n",
    "       -0.02759777, -0.12514539, -0.49096788,  0.49096788, -0.33124431,\n",
    "       -0.26240212, -0.21772206, -0.56898339, -0.51927865,  1.56393831,\n",
    "       -0.19618889, -0.94339063,  0.82814133,  0.59816829, -1.48336677 ]])\n",
    "out"
   ]
  },
  {
   "cell_type": "markdown",
   "metadata": {},
   "source": [
    "# Observation:"
   ]
  },
  {
   "cell_type": "markdown",
   "metadata": {},
   "source": [
    "|Algorithm                |Accuracy             |Accuracy in %\n",
    "|-------------------------|---------------------|--------------\n",
    "|Multi Linear Regression  | 0.7132389211953192  | 71.3%\n",
    "|Decision Tree Regressor  | 0.8011791920592324  | 80.1%\n",
    "|Random Forest Regressor  | 0.8681639422469312  | 86.8%"
   ]
  },
  {
   "cell_type": "code",
   "execution_count": null,
   "metadata": {},
   "outputs": [],
   "source": []
  }
 ],
 "metadata": {
  "kernelspec": {
   "display_name": "Python 3",
   "language": "python",
   "name": "python3"
  },
  "language_info": {
   "codemirror_mode": {
    "name": "ipython",
    "version": 3
   },
   "file_extension": ".py",
   "mimetype": "text/x-python",
   "name": "python",
   "nbconvert_exporter": "python",
   "pygments_lexer": "ipython3",
   "version": "3.8.3"
  }
 },
 "nbformat": 4,
 "nbformat_minor": 4
}
